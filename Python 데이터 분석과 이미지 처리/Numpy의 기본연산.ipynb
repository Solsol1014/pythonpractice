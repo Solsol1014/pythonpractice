{
 "cells": [
  {
   "cell_type": "code",
   "execution_count": 12,
   "metadata": {},
   "outputs": [
    {
     "name": "stdout",
     "output_type": "stream",
     "text": [
      "[2 3 4 5]\n",
      "[0 2 4 6]\n"
     ]
    }
   ],
   "source": [
    "import numpy as np\n",
    "import copy\n",
    "\n",
    "array=np.arange(4)\n",
    "print(array+2)\n",
    "print(array*2)"
   ]
  },
  {
   "cell_type": "code",
   "execution_count": 4,
   "metadata": {},
   "outputs": [
    {
     "name": "stdout",
     "output_type": "stream",
     "text": [
      "[[0 2]\n",
      " [2 4]]\n"
     ]
    }
   ],
   "source": [
    "array1=np.arange(4).reshape(2, 2)\n",
    "array2=np.arange(2)\n",
    "array3=array1+array2\n",
    "\n",
    "print(array3)"
   ]
  },
  {
   "cell_type": "code",
   "execution_count": 9,
   "metadata": {},
   "outputs": [
    {
     "name": "stdout",
     "output_type": "stream",
     "text": [
      "[[0 1 2 3]\n",
      " [4 5 6 7]\n",
      " [0 1 2 3]\n",
      " [4 5 6 7]]\n",
      "[[ 0  1  2  3]\n",
      " [ 5  6  7  8]\n",
      " [ 2  3  4  5]\n",
      " [ 7  8  9 10]]\n"
     ]
    }
   ],
   "source": [
    "array1=np.arange(8).reshape(2, 4)\n",
    "array2=np.arange(8).reshape(2, 4)\n",
    "array3=np.concatenate([array1, array2], axis=0)\n",
    "print(array3)\n",
    "array4=np.arange(4).reshape(4, 1)\n",
    "print(array3+array4)"
   ]
  },
  {
   "cell_type": "code",
   "execution_count": 19,
   "metadata": {},
   "outputs": [
    {
     "name": "stdout",
     "output_type": "stream",
     "text": [
      "[[ 6  8 15 15]\n",
      " [14  6 12  6]\n",
      " [11 16  1 16]\n",
      " [19  6  0 15]]\n",
      "[[ True  True False False]\n",
      " [False  True False  True]\n",
      " [False False  True False]\n",
      " [False  True  True False]]\n",
      "[[100 100  15  15]\n",
      " [ 14 100  12 100]\n",
      " [ 11  16 100  16]\n",
      " [ 19 100 100  15]]\n"
     ]
    }
   ],
   "source": [
    "array1=np.random.randint(0, 21, (4, 4))\n",
    "array2=array1<10\n",
    "array3=array1.copy() #개발메모장에 쓸 것\n",
    "array3[array2]=100\n",
    "print(array1, array2, array3, sep='\\n') #sep 개발메모장에 쓰기"
   ]
  },
  {
   "cell_type": "code",
   "execution_count": 22,
   "metadata": {},
   "outputs": [
    {
     "name": "stdout",
     "output_type": "stream",
     "text": [
      "max : 10\n",
      "min : 1\n",
      "sum : 55\n",
      "mean : 5.5\n",
      "[[ 1  2  3  4  5]\n",
      " [ 6  7  8  9 10]]\n",
      "sum : [ 7  9 11 13 15]\n",
      "column sum : [15 40]\n"
     ]
    }
   ],
   "source": [
    "array=np.arange(1, 11).reshape(2, 5)\n",
    "\n",
    "print(\"max :\", np.max(array))\n",
    "print(\"min :\", np.min(array))\n",
    "print(\"sum :\", np.sum(array))\n",
    "print(\"mean :\", np.mean(array))\n",
    "\n",
    "print(array)\n",
    "print(\"sum :\", np.sum(array, axis=0))\n",
    "print(\"column sum :\", np.sum(array, axis=1))"
   ]
  }
 ],
 "metadata": {
  "kernelspec": {
   "display_name": "Python 3.10.5 64-bit",
   "language": "python",
   "name": "python3"
  },
  "language_info": {
   "codemirror_mode": {
    "name": "ipython",
    "version": 3
   },
   "file_extension": ".py",
   "mimetype": "text/x-python",
   "name": "python",
   "nbconvert_exporter": "python",
   "pygments_lexer": "ipython3",
   "version": "3.10.5"
  },
  "orig_nbformat": 4,
  "vscode": {
   "interpreter": {
    "hash": "78f5b707d86fd9281530b9fa2dbdbe1b33232c3b651a8e052360c651d4996094"
   }
  }
 },
 "nbformat": 4,
 "nbformat_minor": 2
}
