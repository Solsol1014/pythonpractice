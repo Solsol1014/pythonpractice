{
 "cells": [
  {
   "cell_type": "code",
   "execution_count": 1,
   "metadata": {},
   "outputs": [
    {
     "ename": "ModuleNotFoundError",
     "evalue": "No module named 'numpy'",
     "output_type": "error",
     "traceback": [
      "\u001b[0;31m---------------------------------------------------------------------------\u001b[0m",
      "\u001b[0;31mModuleNotFoundError\u001b[0m                       Traceback (most recent call last)",
      "\u001b[1;32m/Users/solsol/Documents/Programming/Pythonworkspace/pythonpractice/Python 데이터 분석과 이미지 처리/Numpy의 기본연산.ipynb Cell 1'\u001b[0m in \u001b[0;36m<cell line: 1>\u001b[0;34m()\u001b[0m\n\u001b[0;32m----> <a href='vscode-notebook-cell:/Users/solsol/Documents/Programming/Pythonworkspace/pythonpractice/Python%20%EB%8D%B0%EC%9D%B4%ED%84%B0%20%EB%B6%84%EC%84%9D%EA%B3%BC%20%EC%9D%B4%EB%AF%B8%EC%A7%80%20%EC%B2%98%EB%A6%AC/Numpy%EC%9D%98%20%EA%B8%B0%EB%B3%B8%EC%97%B0%EC%82%B0.ipynb#ch0000000?line=0'>1</a>\u001b[0m \u001b[39mimport\u001b[39;00m \u001b[39mnumpy\u001b[39;00m \u001b[39mas\u001b[39;00m \u001b[39mnp\u001b[39;00m\n\u001b[1;32m      <a href='vscode-notebook-cell:/Users/solsol/Documents/Programming/Pythonworkspace/pythonpractice/Python%20%EB%8D%B0%EC%9D%B4%ED%84%B0%20%EB%B6%84%EC%84%9D%EA%B3%BC%20%EC%9D%B4%EB%AF%B8%EC%A7%80%20%EC%B2%98%EB%A6%AC/Numpy%EC%9D%98%20%EA%B8%B0%EB%B3%B8%EC%97%B0%EC%82%B0.ipynb#ch0000000?line=1'>2</a>\u001b[0m \u001b[39mimport\u001b[39;00m \u001b[39mcopy\u001b[39;00m\n\u001b[1;32m      <a href='vscode-notebook-cell:/Users/solsol/Documents/Programming/Pythonworkspace/pythonpractice/Python%20%EB%8D%B0%EC%9D%B4%ED%84%B0%20%EB%B6%84%EC%84%9D%EA%B3%BC%20%EC%9D%B4%EB%AF%B8%EC%A7%80%20%EC%B2%98%EB%A6%AC/Numpy%EC%9D%98%20%EA%B8%B0%EB%B3%B8%EC%97%B0%EC%82%B0.ipynb#ch0000000?line=3'>4</a>\u001b[0m array\u001b[39m=\u001b[39mnp\u001b[39m.\u001b[39marange(\u001b[39m4\u001b[39m)\n",
      "\u001b[0;31mModuleNotFoundError\u001b[0m: No module named 'numpy'"
     ]
    }
   ],
   "source": [
    "import numpy as np\n",
    "import copy\n",
    "\n",
    "array=np.arange(4)\n",
    "print(array+2)\n",
    "print(array*2)"
   ]
  },
  {
   "cell_type": "code",
   "execution_count": 4,
   "metadata": {},
   "outputs": [
    {
     "name": "stdout",
     "output_type": "stream",
     "text": [
      "[[0 2]\n",
      " [2 4]]\n"
     ]
    }
   ],
   "source": [
    "array1=np.arange(4).reshape(2, 2)\n",
    "array2=np.arange(2)\n",
    "array3=array1+array2\n",
    "\n",
    "print(array3)"
   ]
  },
  {
   "cell_type": "code",
   "execution_count": 9,
   "metadata": {},
   "outputs": [
    {
     "name": "stdout",
     "output_type": "stream",
     "text": [
      "[[0 1 2 3]\n",
      " [4 5 6 7]\n",
      " [0 1 2 3]\n",
      " [4 5 6 7]]\n",
      "[[ 0  1  2  3]\n",
      " [ 5  6  7  8]\n",
      " [ 2  3  4  5]\n",
      " [ 7  8  9 10]]\n"
     ]
    }
   ],
   "source": [
    "array1=np.arange(8).reshape(2, 4)\n",
    "array2=np.arange(8).reshape(2, 4)\n",
    "array3=np.concatenate([array1, array2], axis=0)\n",
    "print(array3)\n",
    "array4=np.arange(4).reshape(4, 1)\n",
    "print(array3+array4)"
   ]
  },
  {
   "cell_type": "code",
   "execution_count": 19,
   "metadata": {},
   "outputs": [
    {
     "name": "stdout",
     "output_type": "stream",
     "text": [
      "[[ 6  8 15 15]\n",
      " [14  6 12  6]\n",
      " [11 16  1 16]\n",
      " [19  6  0 15]]\n",
      "[[ True  True False False]\n",
      " [False  True False  True]\n",
      " [False False  True False]\n",
      " [False  True  True False]]\n",
      "[[100 100  15  15]\n",
      " [ 14 100  12 100]\n",
      " [ 11  16 100  16]\n",
      " [ 19 100 100  15]]\n"
     ]
    }
   ],
   "source": [
    "array1=np.random.randint(0, 21, (4, 4))\n",
    "array2=array1<10\n",
    "array3=array1.copy() #개발메모장에 쓸 것\n",
    "array3[array2]=100\n",
    "print(array1, array2, array3, sep='\\n') #sep 개발메모장에 쓰기"
   ]
  },
  {
   "cell_type": "code",
   "execution_count": 22,
   "metadata": {},
   "outputs": [
    {
     "name": "stdout",
     "output_type": "stream",
     "text": [
      "max : 10\n",
      "min : 1\n",
      "sum : 55\n",
      "mean : 5.5\n",
      "[[ 1  2  3  4  5]\n",
      " [ 6  7  8  9 10]]\n",
      "sum : [ 7  9 11 13 15]\n",
      "column sum : [15 40]\n"
     ]
    }
   ],
   "source": [
    "array=np.arange(1, 11).reshape(2, 5)\n",
    "\n",
    "print(\"max :\", np.max(array))\n",
    "print(\"min :\", np.min(array))\n",
    "print(\"sum :\", np.sum(array))\n",
    "print(\"mean :\", np.mean(array))\n",
    "\n",
    "print(array)\n",
    "print(\"sum :\", np.sum(array, axis=0))\n",
    "print(\"column sum :\", np.sum(array, axis=1))"
   ]
  }
 ],
 "metadata": {
  "kernelspec": {
   "display_name": "Python 3.10.1 64-bit",
   "language": "python",
   "name": "python3"
  },
  "language_info": {
   "codemirror_mode": {
    "name": "ipython",
    "version": 3
   },
   "file_extension": ".py",
   "mimetype": "text/x-python",
   "name": "python",
   "nbconvert_exporter": "python",
   "pygments_lexer": "ipython3",
   "version": "3.10.1"
  },
  "orig_nbformat": 4,
  "vscode": {
   "interpreter": {
    "hash": "aee8b7b246df8f9039afb4144a1f6fd8d2ca17a180786b69acc140d282b71a49"
   }
  }
 },
 "nbformat": 4,
 "nbformat_minor": 2
}
