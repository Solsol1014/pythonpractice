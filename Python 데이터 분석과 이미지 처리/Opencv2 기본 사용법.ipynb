{
 "cells": [
  {
   "cell_type": "code",
   "execution_count": 1,
   "metadata": {},
   "outputs": [
    {
     "data": {
      "text/plain": [
       "100"
      ]
     },
     "execution_count": 1,
     "metadata": {},
     "output_type": "execute_result"
    },
    {
     "ename": "",
     "evalue": "",
     "output_type": "error",
     "traceback": [
      "\u001b[1;31m현재 셀 또는 이전 셀에서 코드를 실행하는 동안 Kernel이 충돌했습니다. 셀의 코드를 검토하여 오류의 가능한 원인을 식별하세요. 자세한 내용을 보려면 <a href='https://aka.ms/vscodeJupyterKernelCrash'> 여기 </a> 를 클릭하세요. 자세한 내용은 Jupyter <a href='command:jupyter.viewOutput'>로그</a>를 참조하세요."
     ]
    }
   ],
   "source": [
    "#블로그 에제\n",
    "import cv2 as cv\n",
    "import sys\n",
    "\n",
    "img=cv.imread(\"Cat03.jpg\")\n",
    "\n",
    "if img is None:\n",
    "    sys.exit(\"Could not read the image\")\n",
    "\n",
    "cv.imshow(\"Display window\", img)\n",
    "\n",
    "cv.waitKey(0)"
   ]
  },
  {
   "cell_type": "code",
   "execution_count": 1,
   "metadata": {},
   "outputs": [
    {
     "ename": "NameError",
     "evalue": "name 'cv' is not defined",
     "output_type": "error",
     "traceback": [
      "\u001b[1;31m---------------------------------------------------------------------------\u001b[0m",
      "\u001b[1;31mNameError\u001b[0m                                 Traceback (most recent call last)",
      "\u001b[1;32me:\\프로그래밍\\pythonpractice\\Python 데이터 분석과 이미지 처리\\Opencv2 기본 사용법.ipynb 셀 2\u001b[0m in \u001b[0;36m<cell line: 1>\u001b[1;34m()\u001b[0m\n\u001b[1;32m----> <a href='vscode-notebook-cell:/e%3A/%ED%94%84%EB%A1%9C%EA%B7%B8%EB%9E%98%EB%B0%8D/pythonpractice/Python%20%EB%8D%B0%EC%9D%B4%ED%84%B0%20%EB%B6%84%EC%84%9D%EA%B3%BC%20%EC%9D%B4%EB%AF%B8%EC%A7%80%20%EC%B2%98%EB%A6%AC/Opencv2%20%EA%B8%B0%EB%B3%B8%20%EC%82%AC%EC%9A%A9%EB%B2%95.ipynb#ch0000001?line=0'>1</a>\u001b[0m img_basic\u001b[39m=\u001b[39mcv\u001b[39m.\u001b[39mimread(\u001b[39m'\u001b[39m\u001b[39mCat03.jpg\u001b[39m\u001b[39m'\u001b[39m, cv\u001b[39m.\u001b[39mIMREAD_COLOR)\n\u001b[0;32m      <a href='vscode-notebook-cell:/e%3A/%ED%94%84%EB%A1%9C%EA%B7%B8%EB%9E%98%EB%B0%8D/pythonpractice/Python%20%EB%8D%B0%EC%9D%B4%ED%84%B0%20%EB%B6%84%EC%84%9D%EA%B3%BC%20%EC%9D%B4%EB%AF%B8%EC%A7%80%20%EC%B2%98%EB%A6%AC/Opencv2%20%EA%B8%B0%EB%B3%B8%20%EC%82%AC%EC%9A%A9%EB%B2%95.ipynb#ch0000001?line=1'>2</a>\u001b[0m cv\u001b[39m.\u001b[39mimshow(\u001b[39m'\u001b[39m\u001b[39mIMAGE BASIC\u001b[39m\u001b[39m'\u001b[39m, img_basic)\n\u001b[0;32m      <a href='vscode-notebook-cell:/e%3A/%ED%94%84%EB%A1%9C%EA%B7%B8%EB%9E%98%EB%B0%8D/pythonpractice/Python%20%EB%8D%B0%EC%9D%B4%ED%84%B0%20%EB%B6%84%EC%84%9D%EA%B3%BC%20%EC%9D%B4%EB%AF%B8%EC%A7%80%20%EC%B2%98%EB%A6%AC/Opencv2%20%EA%B8%B0%EB%B3%B8%20%EC%82%AC%EC%9A%A9%EB%B2%95.ipynb#ch0000001?line=2'>3</a>\u001b[0m cv\u001b[39m.\u001b[39mwaitKey(\u001b[39m0\u001b[39m)\n",
      "\u001b[1;31mNameError\u001b[0m: name 'cv' is not defined"
     ]
    }
   ],
   "source": [
    "img_basic=cv.imread('Cat03.jpg', cv.IMREAD_COLOR)\n",
    "cv.imshow('IMAGE BASIC', img_basic)\n",
    "cv.waitKey(0)\n"
   ]
  }
 ],
 "metadata": {
  "kernelspec": {
   "display_name": "Python 3.10.5 64-bit",
   "language": "python",
   "name": "python3"
  },
  "language_info": {
   "codemirror_mode": {
    "name": "ipython",
    "version": 3
   },
   "file_extension": ".py",
   "mimetype": "text/x-python",
   "name": "python",
   "nbconvert_exporter": "python",
   "pygments_lexer": "ipython3",
   "version": "3.10.5"
  },
  "orig_nbformat": 4,
  "vscode": {
   "interpreter": {
    "hash": "78f5b707d86fd9281530b9fa2dbdbe1b33232c3b651a8e052360c651d4996094"
   }
  }
 },
 "nbformat": 4,
 "nbformat_minor": 2
}
