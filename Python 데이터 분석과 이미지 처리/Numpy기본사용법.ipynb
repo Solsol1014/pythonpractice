{
 "cells": [
  {
   "cell_type": "code",
   "execution_count": 1,
   "metadata": {},
   "outputs": [
    {
     "ename": "ModuleNotFoundError",
     "evalue": "No module named 'numpy'",
     "output_type": "error",
     "traceback": [
      "\u001b[0;31m---------------------------------------------------------------------------\u001b[0m",
      "\u001b[0;31mModuleNotFoundError\u001b[0m                       Traceback (most recent call last)",
      "\u001b[1;32m/Users/solsol/Documents/Programming/Pythonworkspace/pythonpractice/Python 데이터 분석과 이미지 처리/Numpy기본사용법.ipynb 셀 1\u001b[0m in \u001b[0;36m<cell line: 1>\u001b[0;34m()\u001b[0m\n\u001b[0;32m----> <a href='vscode-notebook-cell:/Users/solsol/Documents/Programming/Pythonworkspace/pythonpractice/Python%20%EB%8D%B0%EC%9D%B4%ED%84%B0%20%EB%B6%84%EC%84%9D%EA%B3%BC%20%EC%9D%B4%EB%AF%B8%EC%A7%80%20%EC%B2%98%EB%A6%AC/Numpy%EA%B8%B0%EB%B3%B8%EC%82%AC%EC%9A%A9%EB%B2%95.ipynb#ch0000000?line=0'>1</a>\u001b[0m \u001b[39mimport\u001b[39;00m \u001b[39mnumpy\u001b[39;00m \u001b[39mas\u001b[39;00m \u001b[39mnp\u001b[39;00m\n\u001b[1;32m      <a href='vscode-notebook-cell:/Users/solsol/Documents/Programming/Pythonworkspace/pythonpractice/Python%20%EB%8D%B0%EC%9D%B4%ED%84%B0%20%EB%B6%84%EC%84%9D%EA%B3%BC%20%EC%9D%B4%EB%AF%B8%EC%A7%80%20%EC%B2%98%EB%A6%AC/Numpy%EA%B8%B0%EB%B3%B8%EC%82%AC%EC%9A%A9%EB%B2%95.ipynb#ch0000000?line=2'>3</a>\u001b[0m list_data\u001b[39m=\u001b[39m[\u001b[39m1\u001b[39m, \u001b[39m2\u001b[39m, \u001b[39m3\u001b[39m]\n\u001b[1;32m      <a href='vscode-notebook-cell:/Users/solsol/Documents/Programming/Pythonworkspace/pythonpractice/Python%20%EB%8D%B0%EC%9D%B4%ED%84%B0%20%EB%B6%84%EC%84%9D%EA%B3%BC%20%EC%9D%B4%EB%AF%B8%EC%A7%80%20%EC%B2%98%EB%A6%AC/Numpy%EA%B8%B0%EB%B3%B8%EC%82%AC%EC%9A%A9%EB%B2%95.ipynb#ch0000000?line=3'>4</a>\u001b[0m array\u001b[39m=\u001b[39mnp\u001b[39m.\u001b[39marray(list_data)\n",
      "\u001b[0;31mModuleNotFoundError\u001b[0m: No module named 'numpy'"
     ]
    }
   ],
   "source": [
    "import numpy as np\n",
    "\n",
    "list_data=[1, 2, 3]\n",
    "array=np.array(list_data)\n",
    "\n",
    "print(array)\n",
    "print(len(list_data))\n",
    "print(array.size)\n",
    "print(array.dtype)\n",
    "print(array[2])"
   ]
  },
  {
   "cell_type": "code",
   "execution_count": 2,
   "metadata": {},
   "outputs": [
    {
     "name": "stdout",
     "output_type": "stream",
     "text": [
      "[0 1 2 3]\n"
     ]
    }
   ],
   "source": [
    "#0부터 3까지의 배열 만들기\n",
    "array1=np.arange(4)\n",
    "print(array1)"
   ]
  },
  {
   "cell_type": "code",
   "execution_count": 3,
   "metadata": {},
   "outputs": [
    {
     "name": "stdout",
     "output_type": "stream",
     "text": [
      "[[0. 0. 0. 0.]\n",
      " [0. 0. 0. 0.]\n",
      " [0. 0. 0. 0.]\n",
      " [0. 0. 0. 0.]]\n"
     ]
    }
   ],
   "source": [
    "#4, 4인 이차원 배열 0으로 초기화\n",
    "array2=np.zeros((4,4), dtype=float)\n",
    "print(array2)"
   ]
  },
  {
   "cell_type": "code",
   "execution_count": 4,
   "metadata": {},
   "outputs": [
    {
     "name": "stdout",
     "output_type": "stream",
     "text": [
      "[['1' '1' '1']\n",
      " ['1' '1' '1']\n",
      " ['1' '1' '1']]\n"
     ]
    }
   ],
   "source": [
    "#3, 3인 이차원 배열 1로 초기화\n",
    "array3=np.ones((3, 3), dtype=str)\n",
    "print(array3)"
   ]
  },
  {
   "cell_type": "code",
   "execution_count": 7,
   "metadata": {},
   "outputs": [
    {
     "name": "stdout",
     "output_type": "stream",
     "text": [
      "[[7 1 6]\n",
      " [7 8 0]\n",
      " [6 7 2]]\n"
     ]
    }
   ],
   "source": [
    "#0부터 9까지 랜덤하게 초기화 된 배열 만들기\n",
    "array4=np.random.randint(0, 10, (3, 3))\n",
    "print(array4)"
   ]
  },
  {
   "cell_type": "code",
   "execution_count": 13,
   "metadata": {},
   "outputs": [
    {
     "name": "stdout",
     "output_type": "stream",
     "text": [
      "[[ 1.24810743  1.34838364  2.95248106]\n",
      " [-0.48803563 -0.73044777  2.0890226 ]\n",
      " [-0.40327999  0.67204733 -0.54279456]]\n"
     ]
    }
   ],
   "source": [
    "#평균이 0이고 표준편차가 1인 표준 정규분포를 띄는 배열\n",
    "array5=np.random.normal(0, 1, (3, 3))\n",
    "print(array5)"
   ]
  },
  {
   "cell_type": "code",
   "execution_count": 14,
   "metadata": {},
   "outputs": [
    {
     "name": "stdout",
     "output_type": "stream",
     "text": [
      "(6,)\n",
      "[1 2 3 4 5 6]\n"
     ]
    }
   ],
   "source": [
    "array1=np.array([1, 2, 3])\n",
    "array2=np.array([4, 5, 6])\n",
    "array3=np.concatenate([array1, array2])\n",
    "print(array3.shape)\n",
    "print(array3)"
   ]
  },
  {
   "cell_type": "code",
   "execution_count": 15,
   "metadata": {},
   "outputs": [
    {
     "name": "stdout",
     "output_type": "stream",
     "text": [
      "[[1 2]\n",
      " [3 4]]\n",
      "(2, 2)\n"
     ]
    }
   ],
   "source": [
    "array1=np.array([1, 2, 3, 4])\n",
    "array2=array1.reshape((2, 2))\n",
    "\n",
    "print(array2)\n",
    "print(array2.shape)"
   ]
  },
  {
   "cell_type": "code",
   "execution_count": 17,
   "metadata": {},
   "outputs": [
    {
     "name": "stdout",
     "output_type": "stream",
     "text": [
      "[[0 1 2 3]]\n",
      "[[0 1 2 3]\n",
      " [4 5 6 7]]\n",
      "[[0 1 2 3]\n",
      " [0 1 2 3]\n",
      " [4 5 6 7]]\n"
     ]
    }
   ],
   "source": [
    "array1=np.arange(4).reshape(1, 4)\n",
    "array2=np.arange(8).reshape(2, 4)\n",
    "\n",
    "print(array1)\n",
    "print(array2)\n",
    "\n",
    "array3=np.concatenate([array1, array2], axis=0)\n",
    "\n",
    "print(array3)"
   ]
  },
  {
   "cell_type": "code",
   "execution_count": 32,
   "metadata": {},
   "outputs": [
    {
     "name": "stdout",
     "output_type": "stream",
     "text": [
      "(3, 2)\n",
      "(3, 2)\n",
      "[[0 1]\n",
      " [4 5]\n",
      " [8 9]] \n",
      " [[ 2  3]\n",
      " [ 6  7]\n",
      " [10 11]]\n",
      "(2, 4)\n",
      "(1, 4)\n",
      "[[0 1 2 3]\n",
      " [4 5 6 7]] \n",
      " [[ 8  9 10 11]]\n",
      "[4 5 6 7]\n"
     ]
    }
   ],
   "source": [
    "array=np.arange(12).reshape(3, 4)\n",
    "left, right=np.split(array, [2], axis=1) #axis=1로 되어있으면 [2]라는 값을 열로 인식. 배열안의 배열의 [2]로 생각한다는 거\n",
    "print(left.shape)\n",
    "print(right.shape)\n",
    "print(left,\"\\n\", right)\n",
    "up, down=np.split(array, [2], axis=0) #axis=0으로 되어있으면 [2]라는 값은 행으로 인식. 그냥 평소처럼 제일 겉 배열의 [2]로 생각한다는 거\n",
    "print(up.shape)\n",
    "print(down.shape)\n",
    "print(up, \"\\n\", down)\n",
    "print(array[1])"
   ]
  }
 ],
 "metadata": {
  "kernelspec": {
   "display_name": "Python 3.10.1 64-bit",
   "language": "python",
   "name": "python3"
  },
  "language_info": {
   "codemirror_mode": {
    "name": "ipython",
    "version": 3
   },
   "file_extension": ".py",
   "mimetype": "text/x-python",
   "name": "python",
   "nbconvert_exporter": "python",
   "pygments_lexer": "ipython3",
   "version": "3.10.1"
  },
  "orig_nbformat": 4,
  "vscode": {
   "interpreter": {
    "hash": "aee8b7b246df8f9039afb4144a1f6fd8d2ca17a180786b69acc140d282b71a49"
   }
  }
 },
 "nbformat": 4,
 "nbformat_minor": 2
}
