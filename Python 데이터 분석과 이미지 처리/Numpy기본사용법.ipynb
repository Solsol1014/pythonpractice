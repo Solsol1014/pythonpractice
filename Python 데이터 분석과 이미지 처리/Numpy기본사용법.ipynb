{
 "cells": [
  {
   "cell_type": "code",
   "execution_count": 1,
   "metadata": {},
   "outputs": [
    {
     "name": "stdout",
     "output_type": "stream",
     "text": [
      "[1 2 3]\n",
      "3\n",
      "3\n",
      "int32\n",
      "3\n"
     ]
    }
   ],
   "source": [
    "import numpy as np\n",
    "\n",
    "list_data=[1, 2, 3]\n",
    "array=np.array(list_data)\n",
    "\n",
    "print(array)\n",
    "print(len(list_data))\n",
    "print(array.size)\n",
    "print(array.dtype)\n",
    "print(array[2])"
   ]
  },
  {
   "cell_type": "code",
   "execution_count": 2,
   "metadata": {},
   "outputs": [
    {
     "name": "stdout",
     "output_type": "stream",
     "text": [
      "[0 1 2 3]\n"
     ]
    }
   ],
   "source": [
    "#0부터 3까지의 배열 만들기\n",
    "array1=np.arange(4)\n",
    "print(array1)"
   ]
  },
  {
   "cell_type": "code",
   "execution_count": 3,
   "metadata": {},
   "outputs": [
    {
     "name": "stdout",
     "output_type": "stream",
     "text": [
      "[[0. 0. 0. 0.]\n",
      " [0. 0. 0. 0.]\n",
      " [0. 0. 0. 0.]\n",
      " [0. 0. 0. 0.]]\n"
     ]
    }
   ],
   "source": [
    "#4, 4인 이차원 배열 0으로 초기화\n",
    "array2=np.zeros((4,4), dtype=float)\n",
    "print(array2)"
   ]
  },
  {
   "cell_type": "code",
   "execution_count": 4,
   "metadata": {},
   "outputs": [
    {
     "name": "stdout",
     "output_type": "stream",
     "text": [
      "[['1' '1' '1']\n",
      " ['1' '1' '1']\n",
      " ['1' '1' '1']]\n"
     ]
    }
   ],
   "source": [
    "#3, 3인 이차원 배열 1로 초기화\n",
    "array3=np.ones((3, 3), dtype=str)\n",
    "print(array3)"
   ]
  },
  {
   "cell_type": "code",
   "execution_count": 7,
   "metadata": {},
   "outputs": [
    {
     "name": "stdout",
     "output_type": "stream",
     "text": [
      "[[7 1 6]\n",
      " [7 8 0]\n",
      " [6 7 2]]\n"
     ]
    }
   ],
   "source": [
    "#0부터 9까지 랜덤하게 초기화 된 배열 만들기\n",
    "array4=np.random.randint(0, 10, (3, 3))\n",
    "print(array4)"
   ]
  },
  {
   "cell_type": "code",
   "execution_count": 13,
   "metadata": {},
   "outputs": [
    {
     "name": "stdout",
     "output_type": "stream",
     "text": [
      "[[ 1.24810743  1.34838364  2.95248106]\n",
      " [-0.48803563 -0.73044777  2.0890226 ]\n",
      " [-0.40327999  0.67204733 -0.54279456]]\n"
     ]
    }
   ],
   "source": [
    "#평균이 0이고 표준편차가 1인 표준 정규분포를 띄는 배열\n",
    "array5=np.random.normal(0, 1, (3, 3))\n",
    "print(array5)"
   ]
  },
  {
   "cell_type": "code",
   "execution_count": 14,
   "metadata": {},
   "outputs": [
    {
     "name": "stdout",
     "output_type": "stream",
     "text": [
      "(6,)\n",
      "[1 2 3 4 5 6]\n"
     ]
    }
   ],
   "source": [
    "array1=np.array([1, 2, 3])\n",
    "array2=np.array([4, 5, 6])\n",
    "array3=np.concatenate([array1, array2])\n",
    "print(array3.shape)\n",
    "print(array3)"
   ]
  },
  {
   "cell_type": "code",
   "execution_count": 15,
   "metadata": {},
   "outputs": [
    {
     "name": "stdout",
     "output_type": "stream",
     "text": [
      "[[1 2]\n",
      " [3 4]]\n",
      "(2, 2)\n"
     ]
    }
   ],
   "source": [
    "array1=np.array([1, 2, 3, 4])\n",
    "array2=array1.reshape((2, 2))\n",
    "\n",
    "print(array2)\n",
    "print(array2.shape)"
   ]
  },
  {
   "cell_type": "code",
   "execution_count": 17,
   "metadata": {},
   "outputs": [
    {
     "name": "stdout",
     "output_type": "stream",
     "text": [
      "[[0 1 2 3]]\n",
      "[[0 1 2 3]\n",
      " [4 5 6 7]]\n",
      "[[0 1 2 3]\n",
      " [0 1 2 3]\n",
      " [4 5 6 7]]\n"
     ]
    }
   ],
   "source": [
    "array1=np.arange(4).reshape(1, 4)\n",
    "array2=np.arange(8).reshape(2, 4)\n",
    "\n",
    "print(array1)\n",
    "print(array2)\n",
    "\n",
    "array3=np.concatenate([array1, array2], axis=0)\n",
    "\n",
    "print(array3)"
   ]
  },
  {
   "cell_type": "code",
   "execution_count": 32,
   "metadata": {},
   "outputs": [
    {
     "name": "stdout",
     "output_type": "stream",
     "text": [
      "(3, 2)\n",
      "(3, 2)\n",
      "[[0 1]\n",
      " [4 5]\n",
      " [8 9]] \n",
      " [[ 2  3]\n",
      " [ 6  7]\n",
      " [10 11]]\n",
      "(2, 4)\n",
      "(1, 4)\n",
      "[[0 1 2 3]\n",
      " [4 5 6 7]] \n",
      " [[ 8  9 10 11]]\n",
      "[4 5 6 7]\n"
     ]
    }
   ],
   "source": [
    "array=np.arange(12).reshape(3, 4)\n",
    "left, right=np.split(array, [2], axis=1) #axis=1로 되어있으면 [2]라는 값을 열로 인식. 배열안의 배열의 [2]로 생각한다는 거\n",
    "print(left.shape)\n",
    "print(right.shape)\n",
    "print(left,\"\\n\", right)\n",
    "up, down=np.split(array, [2], axis=0) #axis=0으로 되어있으면 [2]라는 값은 행으로 인식. 그냥 평소처럼 제일 겉 배열의 [2]로 생각한다는 거\n",
    "print(up.shape)\n",
    "print(down.shape)\n",
    "print(up, \"\\n\", down)\n",
    "print(array[1])"
   ]
  }
 ],
 "metadata": {
  "kernelspec": {
   "display_name": "Python 3.10.5 64-bit",
   "language": "python",
   "name": "python3"
  },
  "language_info": {
   "codemirror_mode": {
    "name": "ipython",
    "version": 3
   },
   "file_extension": ".py",
   "mimetype": "text/x-python",
   "name": "python",
   "nbconvert_exporter": "python",
   "pygments_lexer": "ipython3",
   "version": "3.10.5"
  },
  "orig_nbformat": 4,
  "vscode": {
   "interpreter": {
    "hash": "78f5b707d86fd9281530b9fa2dbdbe1b33232c3b651a8e052360c651d4996094"
   }
  }
 },
 "nbformat": 4,
 "nbformat_minor": 2
}
